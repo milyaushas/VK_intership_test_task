{
  "nbformat": 4,
  "nbformat_minor": 0,
  "metadata": {
    "colab": {
      "provenance": []
    },
    "kernelspec": {
      "name": "python3",
      "display_name": "Python 3"
    },
    "language_info": {
      "name": "python"
    }
  },
  "cells": [
    {
      "cell_type": "markdown",
      "source": [
        "# Задача\n",
        "\n",
        "- провести базовую аналитику по имеющимся данным\n",
        "\n",
        "- обучить модель по тексту сообщения определять, является ли ее содержимое СПАМом\n",
        "\n",
        "- Целевая метрика: ROC-AUC score\n",
        "\n",
        "- провести скоринг лучшей моделью тестовых данных, результат записать в CSV файл в виде таблицы с колонками score и text"
      ],
      "metadata": {
        "id": "VF9Fi3t_ciXe"
      }
    },
    {
      "cell_type": "markdown",
      "source": [
        "# Аналитика\n"
      ],
      "metadata": {
        "id": "834Pst5-d6uC"
      }
    },
    {
      "cell_type": "code",
      "source": [
        "import pandas as pd\n",
        "\n",
        "df = pd.read_csv(\"/content/train_spam.csv\")\n",
        "\n",
        "# проверяем, что тренировочный датасет не содержит пустые значения\n",
        "assert df.isnull().values.any() == False\n",
        "\n",
        "# для удобства заменим колонку text_type на колонку labelсо значениями 0 и 1\n",
        "df['label'] = df.apply(lambda row: 1 if row.text_type == 'spam' else 0, axis=1)\n",
        "df = df.drop(columns='text_type')\n",
        "df"
      ],
      "metadata": {
        "colab": {
          "base_uri": "https://localhost:8080/",
          "height": 423
        },
        "id": "LkMU39tOd9cx",
        "outputId": "ff23cda3-b483-4c8f-bd60-00d77ce73d58"
      },
      "execution_count": 192,
      "outputs": [
        {
          "output_type": "execute_result",
          "data": {
            "text/plain": [
              "                                                    text  label\n",
              "0      make sure alex knows his birthday is over in f...      0\n",
              "1      a resume for john lavorato thanks vince i will...      0\n",
              "2      plzz visit my website moviesgodml to get all m...      1\n",
              "3      urgent your mobile number has been awarded wit...      1\n",
              "4      overview of hr associates analyst project per ...      0\n",
              "...                                                  ...    ...\n",
              "16273  if you are interested in binary options tradin...      1\n",
              "16274  dirty pictureblyk on aircel thanks you for bei...      1\n",
              "16275  or you could do this g on mon 1635465 sep 1635...      0\n",
              "16276  insta reels par 80 गंद bhara pada hai 👀 kuch b...      0\n",
              "16277  alex s paper comments 1 in the sentence betwee...      0\n",
              "\n",
              "[16278 rows x 2 columns]"
            ],
            "text/html": [
              "\n",
              "  <div id=\"df-91aac525-a942-4226-b91b-d1e1b94abf79\" class=\"colab-df-container\">\n",
              "    <div>\n",
              "<style scoped>\n",
              "    .dataframe tbody tr th:only-of-type {\n",
              "        vertical-align: middle;\n",
              "    }\n",
              "\n",
              "    .dataframe tbody tr th {\n",
              "        vertical-align: top;\n",
              "    }\n",
              "\n",
              "    .dataframe thead th {\n",
              "        text-align: right;\n",
              "    }\n",
              "</style>\n",
              "<table border=\"1\" class=\"dataframe\">\n",
              "  <thead>\n",
              "    <tr style=\"text-align: right;\">\n",
              "      <th></th>\n",
              "      <th>text</th>\n",
              "      <th>label</th>\n",
              "    </tr>\n",
              "  </thead>\n",
              "  <tbody>\n",
              "    <tr>\n",
              "      <th>0</th>\n",
              "      <td>make sure alex knows his birthday is over in f...</td>\n",
              "      <td>0</td>\n",
              "    </tr>\n",
              "    <tr>\n",
              "      <th>1</th>\n",
              "      <td>a resume for john lavorato thanks vince i will...</td>\n",
              "      <td>0</td>\n",
              "    </tr>\n",
              "    <tr>\n",
              "      <th>2</th>\n",
              "      <td>plzz visit my website moviesgodml to get all m...</td>\n",
              "      <td>1</td>\n",
              "    </tr>\n",
              "    <tr>\n",
              "      <th>3</th>\n",
              "      <td>urgent your mobile number has been awarded wit...</td>\n",
              "      <td>1</td>\n",
              "    </tr>\n",
              "    <tr>\n",
              "      <th>4</th>\n",
              "      <td>overview of hr associates analyst project per ...</td>\n",
              "      <td>0</td>\n",
              "    </tr>\n",
              "    <tr>\n",
              "      <th>...</th>\n",
              "      <td>...</td>\n",
              "      <td>...</td>\n",
              "    </tr>\n",
              "    <tr>\n",
              "      <th>16273</th>\n",
              "      <td>if you are interested in binary options tradin...</td>\n",
              "      <td>1</td>\n",
              "    </tr>\n",
              "    <tr>\n",
              "      <th>16274</th>\n",
              "      <td>dirty pictureblyk on aircel thanks you for bei...</td>\n",
              "      <td>1</td>\n",
              "    </tr>\n",
              "    <tr>\n",
              "      <th>16275</th>\n",
              "      <td>or you could do this g on mon 1635465 sep 1635...</td>\n",
              "      <td>0</td>\n",
              "    </tr>\n",
              "    <tr>\n",
              "      <th>16276</th>\n",
              "      <td>insta reels par 80 गंद bhara pada hai 👀 kuch b...</td>\n",
              "      <td>0</td>\n",
              "    </tr>\n",
              "    <tr>\n",
              "      <th>16277</th>\n",
              "      <td>alex s paper comments 1 in the sentence betwee...</td>\n",
              "      <td>0</td>\n",
              "    </tr>\n",
              "  </tbody>\n",
              "</table>\n",
              "<p>16278 rows × 2 columns</p>\n",
              "</div>\n",
              "    <div class=\"colab-df-buttons\">\n",
              "\n",
              "  <div class=\"colab-df-container\">\n",
              "    <button class=\"colab-df-convert\" onclick=\"convertToInteractive('df-91aac525-a942-4226-b91b-d1e1b94abf79')\"\n",
              "            title=\"Convert this dataframe to an interactive table.\"\n",
              "            style=\"display:none;\">\n",
              "\n",
              "  <svg xmlns=\"http://www.w3.org/2000/svg\" height=\"24px\" viewBox=\"0 -960 960 960\">\n",
              "    <path d=\"M120-120v-720h720v720H120Zm60-500h600v-160H180v160Zm220 220h160v-160H400v160Zm0 220h160v-160H400v160ZM180-400h160v-160H180v160Zm440 0h160v-160H620v160ZM180-180h160v-160H180v160Zm440 0h160v-160H620v160Z\"/>\n",
              "  </svg>\n",
              "    </button>\n",
              "\n",
              "  <style>\n",
              "    .colab-df-container {\n",
              "      display:flex;\n",
              "      gap: 12px;\n",
              "    }\n",
              "\n",
              "    .colab-df-convert {\n",
              "      background-color: #E8F0FE;\n",
              "      border: none;\n",
              "      border-radius: 50%;\n",
              "      cursor: pointer;\n",
              "      display: none;\n",
              "      fill: #1967D2;\n",
              "      height: 32px;\n",
              "      padding: 0 0 0 0;\n",
              "      width: 32px;\n",
              "    }\n",
              "\n",
              "    .colab-df-convert:hover {\n",
              "      background-color: #E2EBFA;\n",
              "      box-shadow: 0px 1px 2px rgba(60, 64, 67, 0.3), 0px 1px 3px 1px rgba(60, 64, 67, 0.15);\n",
              "      fill: #174EA6;\n",
              "    }\n",
              "\n",
              "    .colab-df-buttons div {\n",
              "      margin-bottom: 4px;\n",
              "    }\n",
              "\n",
              "    [theme=dark] .colab-df-convert {\n",
              "      background-color: #3B4455;\n",
              "      fill: #D2E3FC;\n",
              "    }\n",
              "\n",
              "    [theme=dark] .colab-df-convert:hover {\n",
              "      background-color: #434B5C;\n",
              "      box-shadow: 0px 1px 3px 1px rgba(0, 0, 0, 0.15);\n",
              "      filter: drop-shadow(0px 1px 2px rgba(0, 0, 0, 0.3));\n",
              "      fill: #FFFFFF;\n",
              "    }\n",
              "  </style>\n",
              "\n",
              "    <script>\n",
              "      const buttonEl =\n",
              "        document.querySelector('#df-91aac525-a942-4226-b91b-d1e1b94abf79 button.colab-df-convert');\n",
              "      buttonEl.style.display =\n",
              "        google.colab.kernel.accessAllowed ? 'block' : 'none';\n",
              "\n",
              "      async function convertToInteractive(key) {\n",
              "        const element = document.querySelector('#df-91aac525-a942-4226-b91b-d1e1b94abf79');\n",
              "        const dataTable =\n",
              "          await google.colab.kernel.invokeFunction('convertToInteractive',\n",
              "                                                    [key], {});\n",
              "        if (!dataTable) return;\n",
              "\n",
              "        const docLinkHtml = 'Like what you see? Visit the ' +\n",
              "          '<a target=\"_blank\" href=https://colab.research.google.com/notebooks/data_table.ipynb>data table notebook</a>'\n",
              "          + ' to learn more about interactive tables.';\n",
              "        element.innerHTML = '';\n",
              "        dataTable['output_type'] = 'display_data';\n",
              "        await google.colab.output.renderOutput(dataTable, element);\n",
              "        const docLink = document.createElement('div');\n",
              "        docLink.innerHTML = docLinkHtml;\n",
              "        element.appendChild(docLink);\n",
              "      }\n",
              "    </script>\n",
              "  </div>\n",
              "\n",
              "\n",
              "<div id=\"df-4b27f8da-ebd6-4acf-80de-a392d6fa692e\">\n",
              "  <button class=\"colab-df-quickchart\" onclick=\"quickchart('df-4b27f8da-ebd6-4acf-80de-a392d6fa692e')\"\n",
              "            title=\"Suggest charts\"\n",
              "            style=\"display:none;\">\n",
              "\n",
              "<svg xmlns=\"http://www.w3.org/2000/svg\" height=\"24px\"viewBox=\"0 0 24 24\"\n",
              "     width=\"24px\">\n",
              "    <g>\n",
              "        <path d=\"M19 3H5c-1.1 0-2 .9-2 2v14c0 1.1.9 2 2 2h14c1.1 0 2-.9 2-2V5c0-1.1-.9-2-2-2zM9 17H7v-7h2v7zm4 0h-2V7h2v10zm4 0h-2v-4h2v4z\"/>\n",
              "    </g>\n",
              "</svg>\n",
              "  </button>\n",
              "\n",
              "<style>\n",
              "  .colab-df-quickchart {\n",
              "      --bg-color: #E8F0FE;\n",
              "      --fill-color: #1967D2;\n",
              "      --hover-bg-color: #E2EBFA;\n",
              "      --hover-fill-color: #174EA6;\n",
              "      --disabled-fill-color: #AAA;\n",
              "      --disabled-bg-color: #DDD;\n",
              "  }\n",
              "\n",
              "  [theme=dark] .colab-df-quickchart {\n",
              "      --bg-color: #3B4455;\n",
              "      --fill-color: #D2E3FC;\n",
              "      --hover-bg-color: #434B5C;\n",
              "      --hover-fill-color: #FFFFFF;\n",
              "      --disabled-bg-color: #3B4455;\n",
              "      --disabled-fill-color: #666;\n",
              "  }\n",
              "\n",
              "  .colab-df-quickchart {\n",
              "    background-color: var(--bg-color);\n",
              "    border: none;\n",
              "    border-radius: 50%;\n",
              "    cursor: pointer;\n",
              "    display: none;\n",
              "    fill: var(--fill-color);\n",
              "    height: 32px;\n",
              "    padding: 0;\n",
              "    width: 32px;\n",
              "  }\n",
              "\n",
              "  .colab-df-quickchart:hover {\n",
              "    background-color: var(--hover-bg-color);\n",
              "    box-shadow: 0 1px 2px rgba(60, 64, 67, 0.3), 0 1px 3px 1px rgba(60, 64, 67, 0.15);\n",
              "    fill: var(--button-hover-fill-color);\n",
              "  }\n",
              "\n",
              "  .colab-df-quickchart-complete:disabled,\n",
              "  .colab-df-quickchart-complete:disabled:hover {\n",
              "    background-color: var(--disabled-bg-color);\n",
              "    fill: var(--disabled-fill-color);\n",
              "    box-shadow: none;\n",
              "  }\n",
              "\n",
              "  .colab-df-spinner {\n",
              "    border: 2px solid var(--fill-color);\n",
              "    border-color: transparent;\n",
              "    border-bottom-color: var(--fill-color);\n",
              "    animation:\n",
              "      spin 1s steps(1) infinite;\n",
              "  }\n",
              "\n",
              "  @keyframes spin {\n",
              "    0% {\n",
              "      border-color: transparent;\n",
              "      border-bottom-color: var(--fill-color);\n",
              "      border-left-color: var(--fill-color);\n",
              "    }\n",
              "    20% {\n",
              "      border-color: transparent;\n",
              "      border-left-color: var(--fill-color);\n",
              "      border-top-color: var(--fill-color);\n",
              "    }\n",
              "    30% {\n",
              "      border-color: transparent;\n",
              "      border-left-color: var(--fill-color);\n",
              "      border-top-color: var(--fill-color);\n",
              "      border-right-color: var(--fill-color);\n",
              "    }\n",
              "    40% {\n",
              "      border-color: transparent;\n",
              "      border-right-color: var(--fill-color);\n",
              "      border-top-color: var(--fill-color);\n",
              "    }\n",
              "    60% {\n",
              "      border-color: transparent;\n",
              "      border-right-color: var(--fill-color);\n",
              "    }\n",
              "    80% {\n",
              "      border-color: transparent;\n",
              "      border-right-color: var(--fill-color);\n",
              "      border-bottom-color: var(--fill-color);\n",
              "    }\n",
              "    90% {\n",
              "      border-color: transparent;\n",
              "      border-bottom-color: var(--fill-color);\n",
              "    }\n",
              "  }\n",
              "</style>\n",
              "\n",
              "  <script>\n",
              "    async function quickchart(key) {\n",
              "      const quickchartButtonEl =\n",
              "        document.querySelector('#' + key + ' button');\n",
              "      quickchartButtonEl.disabled = true;  // To prevent multiple clicks.\n",
              "      quickchartButtonEl.classList.add('colab-df-spinner');\n",
              "      try {\n",
              "        const charts = await google.colab.kernel.invokeFunction(\n",
              "            'suggestCharts', [key], {});\n",
              "      } catch (error) {\n",
              "        console.error('Error during call to suggestCharts:', error);\n",
              "      }\n",
              "      quickchartButtonEl.classList.remove('colab-df-spinner');\n",
              "      quickchartButtonEl.classList.add('colab-df-quickchart-complete');\n",
              "    }\n",
              "    (() => {\n",
              "      let quickchartButtonEl =\n",
              "        document.querySelector('#df-4b27f8da-ebd6-4acf-80de-a392d6fa692e button');\n",
              "      quickchartButtonEl.style.display =\n",
              "        google.colab.kernel.accessAllowed ? 'block' : 'none';\n",
              "    })();\n",
              "  </script>\n",
              "</div>\n",
              "    </div>\n",
              "  </div>\n"
            ],
            "application/vnd.google.colaboratory.intrinsic+json": {
              "type": "dataframe",
              "variable_name": "df",
              "summary": "{\n  \"name\": \"df\",\n  \"rows\": 16278,\n  \"fields\": [\n    {\n      \"column\": \"text\",\n      \"properties\": {\n        \"dtype\": \"string\",\n        \"num_unique_values\": 16267,\n        \"samples\": [\n          \"enron opportunities thanks vince we will follow up with this lsu graduate hope you are doing well regards lynn dunphy vince j kaminski 02 15 2000 08 53 am to lynn dunphy hou ect ect cc vince j kaminski hou ect ect subject enron opportunities lynn i am forwarding you the resume of a very bright and motivated young man who attended a lecture i gave recently at lsu i think we should consider him for an analyst position vinceforwarded by vince j kaminski hou ect on 02 15 2000 08 52 am richard c iles on 09 14 2000 11 14 56 am please respond to richard c iles to cc subject enron opportunities dr kaminski here is my resume and cover letter thanks richard iles enron cover and\",\n          \"biliana s resume geynille i understand you are in charge of recruiting at the uofh i am forwarding to you the resume of one of the students of the university of houston she is involved with the international organization called aiesec and i was most impressed by her organizational skills and professional attitude i used to work as a volunteer for this organization many years ago and i am still helping their local chapter as far as i know she signed up for an interview with enron vince kaminskiforwarded by vince j kaminski hou ect on 09 29 2000 02 13 pm biliana pehlivanova on 09 28 2000 06 02 20 pm to vkamins enron com cc subject biliana s resume mr kaminski thank you for referring me to your recru\",\n          \"60 q 70 range is bottom \\ud83d\\ude02\\ud83d\\ude02\"\n        ],\n        \"semantic_type\": \"\",\n        \"description\": \"\"\n      }\n    },\n    {\n      \"column\": \"label\",\n      \"properties\": {\n        \"dtype\": \"number\",\n        \"std\": 0,\n        \"min\": 0,\n        \"max\": 1,\n        \"num_unique_values\": 2,\n        \"samples\": [\n          1,\n          0\n        ],\n        \"semantic_type\": \"\",\n        \"description\": \"\"\n      }\n    }\n  ]\n}"
            }
          },
          "metadata": {},
          "execution_count": 192
        }
      ]
    },
    {
      "cell_type": "code",
      "source": [
        "# посмотрим, как распределены данные в датасете\n",
        "df['label'].value_counts()"
      ],
      "metadata": {
        "colab": {
          "base_uri": "https://localhost:8080/"
        },
        "id": "4qDNZVvoiXtu",
        "outputId": "b8a79927-d414-4911-f36e-2e47d849ecb4"
      },
      "execution_count": 193,
      "outputs": [
        {
          "output_type": "execute_result",
          "data": {
            "text/plain": [
              "label\n",
              "0    11469\n",
              "1     4809\n",
              "Name: count, dtype: int64"
            ]
          },
          "metadata": {},
          "execution_count": 193
        }
      ]
    },
    {
      "cell_type": "markdown",
      "source": [
        "Видим, что в датасете примерно в 2 раза больше отрицательных примеров, чем положительных. Сформируем отдельную валидационную выборку для сравнения разных алгоритмов между собой и выбора оптимального по целевой метрике. Позже после выбора алгоритма можно будет обучит его на всех данных, включив в датасет валидационную выборку."
      ],
      "metadata": {
        "id": "d3nMmI4sjF-y"
      }
    },
    {
      "cell_type": "code",
      "source": [
        "from sklearn.model_selection import train_test_split\n",
        "\n",
        "X_train, X_val, y_train, y_val = train_test_split(\n",
        "    df['text'],\n",
        "    df['label'],\n",
        "    test_size=0.2,\n",
        "    random_state=42,\n",
        "    shuffle=True,\n",
        "    stratify=df['label']\n",
        ")"
      ],
      "metadata": {
        "id": "OzmuUMxyvZ1Q"
      },
      "execution_count": 194,
      "outputs": []
    },
    {
      "cell_type": "markdown",
      "source": [
        "# Обучение моделей"
      ],
      "metadata": {
        "id": "_ybE5X4KwYz7"
      }
    },
    {
      "cell_type": "markdown",
      "source": [
        "## 1. Наивный байес\n",
        "Один из стандартных методов решения задачи классификации спама: https://ru.wikipedia.org/wiki/%D0%91%D0%B0%D0%B9%D0%B5%D1%81%D0%BE%D0%B2%D1%81%D0%BA%D0%B0%D1%8F_%D1%84%D0%B8%D0%BB%D1%8C%D1%82%D1%80%D0%B0%D1%86%D0%B8%D1%8F_%D1%81%D0%BF%D0%B0%D0%BC%D0%B0\n",
        "\n",
        "Плюсы этого подхода:\n",
        "\n",
        "1. Легко интерпретировать результаты классификации, так как весь подход основан о статистических данных о словах (какие-то слова встречаются в спам письмах гораздо чаще, чем в не-спаме)\n",
        "\n",
        "2. Для обучения не нужны большие вычислительные мощности и ГПУ.\n",
        "\n",
        "Недостатки: наивный байесовский классификатор никак не учитывает семантические связи слов текста письма, потому что основан на гипотезе о независимости отдельных токенов.\n",
        "\n",
        "Реализация алгоритма и код для отрисовки графиков взяты из выполненного мною ДЗ курса по NLP от ШАДа (https://github.com/yandexdataschool/nlp_course)"
      ],
      "metadata": {
        "id": "6wRaiR9Ywd1P"
      }
    },
    {
      "cell_type": "code",
      "source": [
        "import numpy as np\n",
        "\n",
        "class BinaryNaiveBayes:\n",
        "    delta = 1.0  # add this to all word counts to smoothe probabilities\n",
        "\n",
        "    def fit(self, X, y):\n",
        "        \"\"\"\n",
        "        Fit a NaiveBayes classifier for two classes\n",
        "        :param X: [batch_size, vocab_size] of bag-of-words features\n",
        "        :param y: [batch_size] of binary targets {0, 1}\n",
        "        \"\"\"\n",
        "        # first, compute marginal probabilities of every class, p(y=k) for k = 0,1\n",
        "        self.p_y = np.array([\n",
        "            np.count_nonzero(y == 0) / len(y),\n",
        "            np.count_nonzero(y == 1) / len(y)\n",
        "        ])\n",
        "\n",
        "        # count occurences of each word in texts with label 1 and label 0 separately\n",
        "        word_counts_positive = X[y == 1].sum(axis=0)\n",
        "        word_counts_negative = X[y == 0].sum(axis=0)\n",
        "        # ^-- both must be vectors of shape [vocab_size].\n",
        "\n",
        "        # finally, lets use those counts to estimate p(x | y = k) for k = 0, 1\n",
        "\n",
        "        self.p_x_given_positive = (self.delta + word_counts_positive) / np.sum(self.delta + word_counts_positive)\n",
        "        self.p_x_given_negative = (self.delta + word_counts_negative) / np.sum(self.delta + word_counts_negative)\n",
        "        # both must be of shape [vocab_size]; and don't forget to add self.delta!\n",
        "\n",
        "        return self\n",
        "\n",
        "    def predict_scores(self, X):\n",
        "        \"\"\"\n",
        "        :param X: [batch_size, vocab_size] of bag-of-words features\n",
        "        :returns: a matrix of scores [batch_size, k] of scores for k-th class\n",
        "        \"\"\"\n",
        "        # compute scores for positive and negative classes separately.\n",
        "        # these scores should be proportional to log-probabilities of the respective target {0, 1}\n",
        "        # note: if you apply logarithm to p_x_given_*, the total log-probability can be written\n",
        "        # as a dot-product with X\n",
        "        score_negative = np.log(self.p_y[0]) + X @ np.log(self.p_x_given_negative)\n",
        "        score_positive = np.log(self.p_y[1]) + X @ np.log(self.p_x_given_positive)\n",
        "\n",
        "        # you can compute total p(x | y=k) with a dot product\n",
        "        return np.stack([score_negative, score_positive], axis=-1)\n",
        "\n",
        "    def predict(self, X):\n",
        "        return self.predict_scores(X).argmax(axis=-1)"
      ],
      "metadata": {
        "id": "Pv2zdMp47L9x"
      },
      "execution_count": 195,
      "outputs": []
    },
    {
      "cell_type": "code",
      "source": [
        "# сначала переведем все письма в нижний регистр и токенизируем тексты на отдельные слова и знаки пунктуации, разделенные пробелами\n",
        "from nltk.tokenize import WordPunctTokenizer\n",
        "\n",
        "tokenizer = WordPunctTokenizer()\n",
        "preprocess = lambda text: ' '.join(tokenizer.tokenize(text.lower()))\n",
        "\n",
        "texts_train = [preprocess(text) for text in X_train]\n",
        "texts_val = [preprocess(text) for text in X_val]"
      ],
      "metadata": {
        "id": "pUdSXyVQltPu"
      },
      "execution_count": 196,
      "outputs": []
    },
    {
      "cell_type": "code",
      "source": [
        "from collections import Counter\n",
        "\n",
        "token_counts = Counter()\n",
        "\n",
        "# посчитаем как часто каждый токен встречается во всех сообщениях тренировочного датасета\n",
        "for text in texts_train:\n",
        "  for token in text.split():\n",
        "    token_counts[token] += 1\n",
        "\n",
        "#отсортируем токены по убыванию их частотности\n",
        "sorted_tokens = sorted(token_counts.items(), key=lambda x: x[1], reverse=True)\n",
        "\n",
        "#уменьшим размер словаря, убрав из него токены с частотой меньше 10\n",
        "sorted_tokens = [(token, frequency) for (token, frequency) in sorted_tokens if frequency >= 10]\n",
        "\n",
        "bow_vocabulary = [token for (token, _) in sorted_tokens]\n",
        "print(f\"размер словаря: {len(bow_vocabulary)}\")\n",
        "\n",
        "token_to_id = {}\n",
        "for ind, token in enumerate(bow_vocabulary):\n",
        "  token_to_id[token] = ind\n",
        "\n",
        "def text_to_bow(text):\n",
        "    \"\"\" convert text string to an array of token counts. Use bow_vocabulary. \"\"\"\n",
        "    result = [0] * len(bow_vocabulary)\n",
        "\n",
        "    for token in text.split():\n",
        "      if token in token_to_id:\n",
        "        result[token_to_id[token]] += 1\n",
        "\n",
        "    return np.array(result, 'float32')\n",
        "\n",
        "X_train_bow = np.stack(list(map(text_to_bow, texts_train)))\n",
        "X_val_bow = np.stack(list(map(text_to_bow, texts_val)))"
      ],
      "metadata": {
        "id": "CbQrx3Ri4Wz9",
        "colab": {
          "base_uri": "https://localhost:8080/"
        },
        "outputId": "90e621ae-a1f1-4b47-e013-98bdbd0524b7"
      },
      "execution_count": 197,
      "outputs": [
        {
          "output_type": "stream",
          "name": "stdout",
          "text": [
            "размер словаря: 6100\n"
          ]
        }
      ]
    },
    {
      "cell_type": "code",
      "source": [
        "naive_model = BinaryNaiveBayes().fit(X_train_bow, y_train)"
      ],
      "metadata": {
        "id": "Cspn6jWB63LZ"
      },
      "execution_count": 198,
      "outputs": []
    },
    {
      "cell_type": "code",
      "source": [
        "from sklearn.metrics import roc_auc_score, roc_curve, f1_score\n",
        "import matplotlib.pyplot as plt\n",
        "%matplotlib inline\n",
        "\n",
        "for name, X, y, model in [\n",
        "    ('train', X_train_bow, y_train, naive_model),\n",
        "    ('valid', X_val_bow, y_val, naive_model)\n",
        "]:\n",
        "    proba = model.predict_scores(X)[:, 1] - model.predict_scores(X)[:, 0]\n",
        "    auc = roc_auc_score(y, proba)\n",
        "    plt.plot(*roc_curve(y, proba)[:2], label='%s AUC=%.4f' % (name, auc))\n",
        "\n",
        "plt.plot([0, 1], [0, 1], '--', color='black',)\n",
        "plt.legend(fontsize='large')\n",
        "plt.grid()\n",
        "\n",
        "test_accuracy = np.mean(naive_model.predict(X_val_bow) == y_val)\n",
        "test_f1_score = f1_score(y_val, naive_model.predict(X_val_bow))\n",
        "print(f\"Model accuracy: {test_accuracy:.3f}\")\n",
        "print(f\"Model f1 score: {test_f1_score:.3f}\")"
      ],
      "metadata": {
        "colab": {
          "base_uri": "https://localhost:8080/",
          "height": 469
        },
        "id": "2AJeVhWZ9XZW",
        "outputId": "f94e44f5-573b-4f5b-bb49-f544637dd4d7"
      },
      "execution_count": 199,
      "outputs": [
        {
          "output_type": "stream",
          "name": "stdout",
          "text": [
            "Model accuracy: 0.911\n",
            "Model f1 score: 0.862\n"
          ]
        },
        {
          "output_type": "display_data",
          "data": {
            "text/plain": [
              "<Figure size 640x480 with 1 Axes>"
            ],
            "image/png": "[encoded data removed]"
          },
          "metadata": {}
        }
      ]
    },
    {
      "cell_type": "markdown",
      "source": [
        "Видим, что самый простой наивный байесовский подход уже дает достаточно хорошее значение метрики ROC-AUC score."
      ],
      "metadata": {
        "id": "ezsI5IvT_8Fi"
      }
    },
    {
      "cell_type": "markdown",
      "source": [
        "# 2. fasttext эмбеддинги + логистическая регрессия\n",
        "\n",
        "Другой популярный подход для решения подобных задач это сначала получить векторные представления (эмбеддинги) текстов, затем применить к ним какой-либо алгоритм классификации (например, логистическую регрессию).\n",
        "\n",
        "Есть 2 основных способа получения эмбеддингов текста:\n",
        "\n",
        "1. берем предобученные эмбеддинги (word2vec, fasttext, glove и тд), каждому слову предложения сопоставляем эмбеддинг (если слова нет в словаре эмбеддингов, просто пропускаем его), суммируем эмбеддинги, чтобы получить векторное представление текста. Можно также попробовать усреднить эмбеддинги токенов или складывать их с какими-то весами, коррелирующими с важностью отдельных токенов (например, умножать tf-idf метрику, посчитанную на тренировочном датасете)\n",
        "\n",
        "2. используем какую-нибудь нейросетевую модель sentence-encoder, которая будет давать на выходе эмбеддинг всего текста. преимущество такого подхода над предыдущим это то, что такие модели могут учитывать семантические связи между отдельными словами и их порядок, что почти всегда существенно влияет на смысл текста. Можно также попробовать пофайнтюнить LLM (например, BERT), потому что таким образом мы тоже будем получать эмбеддинг для всего текста с помощью большой языковой модели, а в роли классификаторы выступит последний линейный слой размера (размерность_эмбеддинга, 2)\n",
        "\n",
        "Для простоты я решила попробовать первый способ, потому что в предыдущем эксперименте bag-of-words подход уже дал приемлимый результат"
      ],
      "metadata": {
        "id": "gfpXOrdCO30q"
      }
    },
    {
      "cell_type": "code",
      "source": [
        "import gensim.downloader\n",
        "\n",
        "# Используем предобученные эмбеддинги fasttext из gensim. Если есть большое количество данных, можно обучить на них свой корпус эмбеддингов, специфичный для домена\n",
        "embeddings = gensim.downloader.load(\"fasttext-wiki-news-subwords-300\")"
      ],
      "metadata": {
        "id": "dVelz0u3ZY3r"
      },
      "execution_count": 182,
      "outputs": []
    },
    {
      "cell_type": "code",
      "source": [
        "def vectorize_sum(text):\n",
        "    embedding_dim = embeddings.vector_size\n",
        "    features = np.zeros([embedding_dim], dtype='float32')\n",
        "\n",
        "    for token in text.split():\n",
        "      if token in embeddings:\n",
        "        features += embeddings[token]\n",
        "\n",
        "    return features\n",
        "\n",
        "X_train_wv = np.stack([vectorize_sum(text) for text in texts_train])\n",
        "X_val_wv = np.stack([vectorize_sum(text) for text in texts_val])"
      ],
      "metadata": {
        "id": "g_hoLD6YcfEx"
      },
      "execution_count": 200,
      "outputs": []
    },
    {
      "cell_type": "code",
      "source": [
        "from sklearn.linear_model import LogisticRegression\n",
        "\n",
        "wv_model = LogisticRegression(max_iter=1000).fit(X_train_wv, y_train)"
      ],
      "metadata": {
        "id": "o2G8Xf5BhmOz"
      },
      "execution_count": 201,
      "outputs": []
    },
    {
      "cell_type": "code",
      "source": [
        "for name, X, y, model in [\n",
        "    ('vec train', X_train_wv, y_train, wv_model),\n",
        "    ('vec val', X_val_wv, y_val, wv_model)\n",
        "]:\n",
        "    proba = model.predict_proba(X)[:, 1]\n",
        "    auc = roc_auc_score(y, proba)\n",
        "    plt.plot(*roc_curve(y, proba)[:2], label='%s AUC=%.4f' % (name, auc))\n",
        "\n",
        "plt.plot([0, 1], [0, 1], '--', color='black',)\n",
        "plt.legend(fontsize='large')\n",
        "plt.grid()\n",
        "\n",
        "test_accuracy = np.mean(wv_model.predict(X_val_wv) == y_val)\n",
        "test_f1_score = f1_score(y_val, wv_model.predict(X_val_wv))\n",
        "print(f\"Model accuracy: {test_accuracy:.3f}\")\n",
        "print(f\"Model f1 score: {test_f1_score:.3f}\")"
      ],
      "metadata": {
        "colab": {
          "base_uri": "https://localhost:8080/",
          "height": 469
        },
        "id": "Qu2vAV7HhQ9M",
        "outputId": "0d311dc6-7452-4530-c95c-baac17e71520"
      },
      "execution_count": 202,
      "outputs": [
        {
          "output_type": "stream",
          "name": "stdout",
          "text": [
            "Model accuracy: 0.923\n",
            "Model f1 score: 0.862\n"
          ]
        },
        {
          "output_type": "display_data",
          "data": {
            "text/plain": [
              "<Figure size 640x480 with 1 Axes>"
            ],
            "image/png": "[encoded data removed]"
          },
          "metadata": {}
        }
      ]
    },
    {
      "cell_type": "markdown",
      "source": [
        "# 3. Выбор модели с помощью кросс-валидации\n",
        "\n",
        "Так как метрики на отдельной валидационной выборке получились примерно одинаковыми, проведем кросс-валидацию, чтобы из двух моделей выбрать лучшую"
      ],
      "metadata": {
        "id": "8ymu8JU2iQkm"
      }
    },
    {
      "cell_type": "code",
      "source": [
        "from sklearn.model_selection import StratifiedKFold\n",
        "\n",
        "kf = StratifiedKFold(n_splits=5, shuffle=True, random_state=1337)\n",
        "X = df['text']\n",
        "y = df['label']\n",
        "\n",
        "bayes_auc = []\n",
        "logreg_auc = []\n",
        "\n",
        "\n",
        "for i, (train_idx, test_idx) in enumerate(kf.split(X, y)):\n",
        "  print(i)\n",
        "  X_train = X[train_idx]\n",
        "  y_train = y[train_idx]\n",
        "  X_test = X[test_idx]\n",
        "  y_test = y[test_idx]\n",
        "\n",
        "  texts_train = [preprocess(text) for text in X_train]\n",
        "  texts_test = [preprocess(text) for text in X_test]\n",
        "\n",
        "  # Naive Bayes\n",
        "  token_counts = Counter()\n",
        "\n",
        "  for text in texts_train:\n",
        "    for token in text.split():\n",
        "      token_counts[token] += 1\n",
        "\n",
        "  sorted_tokens = sorted(token_counts.items(), key=lambda x: x[1], reverse=True)\n",
        "  sorted_tokens = [(token, frequency) for (token, frequency) in sorted_tokens if frequency >= 10]\n",
        "  bow_vocabulary = [token for (token, _) in sorted_tokens]\n",
        "\n",
        "  token_to_id = {}\n",
        "  for ind, token in enumerate(bow_vocabulary):\n",
        "    token_to_id[token] = ind\n",
        "\n",
        "  def text_to_bow(text):\n",
        "    \"\"\" convert text string to an array of token counts. Use bow_vocabulary. \"\"\"\n",
        "    result = [0] * len(bow_vocabulary)\n",
        "\n",
        "    for token in text.split():\n",
        "      if token in token_to_id:\n",
        "        result[token_to_id[token]] += 1\n",
        "\n",
        "    return np.array(result, 'float32')\n",
        "\n",
        "  X_train_bow = np.stack(list(map(text_to_bow, texts_train)))\n",
        "  X_test_bow = np.stack(list(map(text_to_bow, texts_test)))\n",
        "\n",
        "  model = BinaryNaiveBayes().fit(X_train_bow, y_train)\n",
        "  proba = model.predict_scores(X_test_bow)[:, 1] - model.predict_scores(X_test_bow)[:, 0]\n",
        "  auc = roc_auc_score(y_test, proba)\n",
        "  print(f\"bayes ROC-AUC score: {auc}\")\n",
        "  bayes_auc.append(auc)\n",
        "\n",
        "\n",
        "  # Logistic Regression\n",
        "  X_train_wv = np.stack([vectorize_sum(text) for text in texts_train])\n",
        "  X_test_wv = np.stack([vectorize_sum(text) for text in texts_test])\n",
        "\n",
        "  model = LogisticRegression(max_iter=1000).fit(X_train_wv, y_train)\n",
        "  proba = model.predict_proba(X_test_wv)[:, 1]\n",
        "  auc = roc_auc_score(y_test, proba)\n",
        "  print(f\"logreg ROC-AUC score: {auc}\")\n",
        "  logreg_auc.append(auc)"
      ],
      "metadata": {
        "colab": {
          "base_uri": "https://localhost:8080/"
        },
        "id": "_zyYDmARiZWR",
        "outputId": "4e30bc95-c409-46f4-b3b5-b0ec6769dfa9"
      },
      "execution_count": 203,
      "outputs": [
        {
          "output_type": "stream",
          "name": "stdout",
          "text": [
            "0\n",
            "bayes ROC-AUC score: 0.9771282582965234\n",
            "logreg ROC-AUC score: 0.9623393848546421\n",
            "1\n",
            "bayes ROC-AUC score: 0.9723215855517511\n",
            "logreg ROC-AUC score: 0.9592958762531562\n",
            "2\n",
            "bayes ROC-AUC score: 0.9734528472540678\n",
            "logreg ROC-AUC score: 0.9584455607777317\n",
            "3\n",
            "bayes ROC-AUC score: 0.9739443800821399\n",
            "logreg ROC-AUC score: 0.9611627672787083\n",
            "4\n",
            "bayes ROC-AUC score: 0.9757711937171161\n",
            "logreg ROC-AUC score: 0.9585103990904253\n"
          ]
        }
      ]
    },
    {
      "cell_type": "code",
      "source": [
        "from numpy import mean\n",
        "\n",
        "print(f\"Mean bayes  ROC-AUC score: {mean(bayes_auc)}\")\n",
        "print(f\"Mean logreg ROC-AUC score: {mean(logreg_auc)}\")"
      ],
      "metadata": {
        "colab": {
          "base_uri": "https://localhost:8080/"
        },
        "id": "phtGdnbarwcu",
        "outputId": "34b923f1-40b2-4e02-9d21-b8a618d8796c"
      },
      "execution_count": 205,
      "outputs": [
        {
          "output_type": "stream",
          "name": "stdout",
          "text": [
            "Mean bayes  ROC-AUC score: 0.9745236529803197\n",
            "Mean logreg ROC-AUC score: 0.9599507976509327\n"
          ]
        }
      ]
    },
    {
      "cell_type": "markdown",
      "source": [
        "Видим, что целевая метрика лучше у первого алгоритма, поэтому обучим эту модель на всех тренировочных данных"
      ],
      "metadata": {
        "id": "_XKAzynetXiC"
      }
    },
    {
      "cell_type": "code",
      "source": [
        "X = df['text']\n",
        "y = df['label']\n",
        "\n",
        "texts_train = [preprocess(text) for text in X]\n",
        "\n",
        "token_counts = Counter()\n",
        "\n",
        "for text in texts_train:\n",
        "  for token in text.split():\n",
        "    token_counts[token] += 1\n",
        "\n",
        "sorted_tokens = sorted(token_counts.items(), key=lambda x: x[1], reverse=True)\n",
        "sorted_tokens = [(token, frequency) for (token, frequency) in sorted_tokens if frequency >= 10]\n",
        "bow_vocabulary = [token for (token, _) in sorted_tokens]\n",
        "\n",
        "token_to_id = {}\n",
        "for ind, token in enumerate(bow_vocabulary):\n",
        "  token_to_id[token] = ind\n",
        "\n",
        "def text_to_bow(text):\n",
        "  \"\"\" convert text string to an array of token counts. Use bow_vocabulary. \"\"\"\n",
        "  result = [0] * len(bow_vocabulary)\n",
        "\n",
        "  for token in text.split():\n",
        "    if token in token_to_id:\n",
        "      result[token_to_id[token]] += 1\n",
        "\n",
        "  return np.array(result, 'float32')\n",
        "\n",
        "X_train = np.stack(list(map(text_to_bow, texts_train)))\n",
        "\n",
        "best_model = BinaryNaiveBayes().fit(X_train, y)"
      ],
      "metadata": {
        "id": "2ZDMfuzyv7ZS"
      },
      "execution_count": 235,
      "outputs": []
    },
    {
      "cell_type": "code",
      "source": [
        "# на всякий случай, убедимся, что модель показывает ROC-AUC score на тренировочных данных близкий к 1.0\n",
        "\n",
        "proba = best_model.predict_scores(X_train)[:, 1] - best_model.predict_scores(X_train)[:, 0]\n",
        "auc = roc_auc_score(y, proba)\n",
        "plt.plot(*roc_curve(y, proba)[:2], label='%s AUC=%.4f' % ('best model', auc))\n",
        "\n",
        "plt.plot([0, 1], [0, 1], '--', color='black',)\n",
        "plt.legend(fontsize='large')\n",
        "plt.grid()\n",
        "\n",
        "test_accuracy = np.mean(naive_model.predict(X_val_bow) == y_val)\n",
        "test_f1_score = f1_score(y_val, naive_model.predict(X_val_bow))"
      ],
      "metadata": {
        "colab": {
          "base_uri": "https://localhost:8080/",
          "height": 434
        },
        "id": "PXFZLWCry-H1",
        "outputId": "73a8094d-ffae-4a4a-c248-442cabf674a9"
      },
      "execution_count": 236,
      "outputs": [
        {
          "output_type": "display_data",
          "data": {
            "text/plain": [
              "<Figure size 640x480 with 1 Axes>"
            ],
            "image/png": "[encoded data removed]"
          },
          "metadata": {}
        }
      ]
    },
    {
      "cell_type": "code",
      "source": [
        "test_df = pd.read_csv(\"/content/test_spam.csv\")\n",
        "test_texts = test_df['text']\n",
        "\n",
        "test_texts = [preprocess(text) for text in test_texts]\n",
        "\n",
        "X_test = np.stack(list(map(text_to_bow, test_texts)))\n",
        "scores = best_model.predict_scores(X_test)[:, 1] - best_model.predict_scores(X_test)[:, 0]\n",
        "\n",
        "results_df = pd.DataFrame(data = {\n",
        "    'text': test_df['text'],\n",
        "    'score': scores\n",
        "})\n",
        "\n",
        "results_df.to_csv(\"/content/results.csv\")"
      ],
      "metadata": {
        "id": "LAJHQqXXwwsM"
      },
      "execution_count": 221,
      "outputs": []
    }
  ]
}